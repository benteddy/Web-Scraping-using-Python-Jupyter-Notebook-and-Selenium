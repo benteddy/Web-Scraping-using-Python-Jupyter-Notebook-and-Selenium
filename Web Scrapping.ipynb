{
 "cells": [
  {
   "cell_type": "markdown",
   "id": "44aa18b9",
   "metadata": {},
   "source": [
    "**Import Library**"
   ]
  },
  {
   "cell_type": "code",
   "execution_count": 1,
   "id": "63d93a6c",
   "metadata": {},
   "outputs": [],
   "source": [
    "from time import sleep\n",
    "from selenium import webdriver\n",
    "import pandas as pd"
   ]
  },
  {
   "cell_type": "markdown",
   "id": "212d85e9",
   "metadata": {},
   "source": [
    "**Choose the Data Date Periode**"
   ]
  },
  {
   "cell_type": "code",
   "execution_count": 2,
   "id": "d4fb1f87",
   "metadata": {},
   "outputs": [],
   "source": [
    "#Open The Website Page\n",
    "driver = webdriver.Chrome('chromedriver')\n",
    "driver.get('https://www.bi.go.id/en/statistik/informasi-kurs/jisdor/Default.aspx')\n",
    "sleep(1)\n",
    "\n",
    "#Input The Particular First Date (t2021-01-01)\n",
    "driver.find_element_by_xpath('//*[@id=\"TextBoxFrom\"]').click()\n",
    "sleep(1)\n",
    "driver.find_element_by_xpath('/html/body/div[2]/div[1]/table/thead/tr[2]/th[2]').click()\n",
    "sleep(1)\n",
    "driver.find_element_by_xpath('/html/body/div[2]/div[2]/table/tbody/tr/td/span[1]').click()\n",
    "sleep(1)\n",
    "driver.find_element_by_xpath('/html/body/div[2]/div[1]/table/tbody/tr[1]/td[6]').click()\n",
    "sleep(2)\n",
    "\n",
    "#Input The Particular Last Date (2021-08-18)\n",
    "driver.find_element_by_xpath('//*[@id=\"TextBoxDateTo\"]').click()\n",
    "sleep(1)\n",
    "driver.find_element_by_xpath('/html/body/div[2]/div[1]/table/thead/tr[2]/th[2]').click()\n",
    "sleep(1)\n",
    "driver.find_element_by_xpath('/html/body/div[2]/div[2]/table/tbody/tr/td/span[8]').click()\n",
    "sleep(1)\n",
    "driver.find_element_by_xpath('/html/body/div[2]/div[1]/table/tbody/tr[4]/td[4]').click()\n",
    "sleep(1)\n",
    "\n",
    "#Click the Button \"Search\" to Search The Data\n",
    "driver.find_element_by_xpath('//*[@id=\"ctl00_ctl44_g_635f8117_c448_4d65_b807_5df7064c3fe7_ctl00_ButtonCari\"]').click()"
   ]
  },
  {
   "cell_type": "markdown",
   "id": "af287581",
   "metadata": {},
   "source": [
    "**Get the Total of Data Website Page**"
   ]
  },
  {
   "cell_type": "code",
   "execution_count": 3,
   "id": "04dd8336",
   "metadata": {},
   "outputs": [],
   "source": [
    "#Loop the \"Next\" button to get the last page from the website\n",
    "page = []\n",
    "i = 1\n",
    "while i > 0:\n",
    "    page.append(driver.find_element_by_class_name('page-link--custom.active').text)\n",
    "    #Get the condition when the total last table rows equal 10\n",
    "    if len(driver.find_elements_by_xpath('//*[@id=\"tableData\"]/table/tbody/tr')) == 10:\n",
    "        element = driver.find_element_by_xpath('//*[@id=\"ctl00_ctl44_g_635f8117_c448_4d65_b807_5df7064c3fe7_ctl00_DataPagerData\"]/input[2]')\n",
    "        driver.execute_script(\"arguments[0].click();\", element)\n",
    "        if driver.find_element_by_class_name('page-link--custom.active').text in page:\n",
    "            break\n",
    "        else:\n",
    "            continue\n",
    "    #Get the condition when the total last table rows not equal 10\n",
    "    else:\n",
    "        break\n",
    "\n",
    "#Get the last website page content\n",
    "max_page = page[-1]"
   ]
  },
  {
   "cell_type": "markdown",
   "id": "40f31020",
   "metadata": {},
   "source": [
    "**Conduct the reverse process to the first website page**"
   ]
  },
  {
   "cell_type": "code",
   "execution_count": 4,
   "id": "4a7cec2d",
   "metadata": {},
   "outputs": [],
   "source": [
    "while driver.find_element_by_xpath('//*[@id=\"ctl00_ctl44_g_635f8117_c448_4d65_b807_5df7064c3fe7_ctl00_DataPagerData\"]/span').text != '1':\n",
    "    element = driver.find_element_by_xpath('//*[@id=\"ctl00_ctl44_g_635f8117_c448_4d65_b807_5df7064c3fe7_ctl00_DataPagerData\"]/input[1]')\n",
    "    driver.execute_script(\"arguments[0].click();\", element)"
   ]
  },
  {
   "cell_type": "markdown",
   "id": "6386a3e6",
   "metadata": {},
   "source": [
    "**Get the table data in every page**"
   ]
  },
  {
   "cell_type": "code",
   "execution_count": 5,
   "id": "7422278b",
   "metadata": {
    "scrolled": true
   },
   "outputs": [],
   "source": [
    "column1 = []\n",
    "column2 = []\n",
    "i = 1\n",
    "while i > 0:\n",
    "    columns = 2\n",
    "    rows = len(driver.find_elements_by_xpath('//*[@id=\"tableData\"]/table/tbody/tr'))\n",
    "    for r in range(1,rows+1): #row\n",
    "        for c in range(1,columns+1): #column\n",
    "            if c%2 != 0:\n",
    "                column1.append(driver.find_element_by_xpath('//*[@id=\"tableData\"]/table/tbody/tr['+str(r)+']/td['+str(c)+']').text)\n",
    "            else:\n",
    "                column2.append(driver.find_element_by_xpath('//*[@id=\"tableData\"]/table/tbody/tr['+str(r)+']/td['+str(c)+']').text)\n",
    "    element = driver.find_element_by_xpath('//*[@id=\"ctl00_ctl44_g_635f8117_c448_4d65_b807_5df7064c3fe7_ctl00_DataPagerData\"]/input[2]')\n",
    "    driver.execute_script(\"arguments[0].click();\", element)\n",
    "    i+=1\n",
    "    #Break the looping of website page condition\n",
    "    if i > int(max_page):\n",
    "        break"
   ]
  },
  {
   "cell_type": "markdown",
   "id": "9a8ed7bb",
   "metadata": {},
   "source": [
    "**Concatenate the tables from every website page**"
   ]
  },
  {
   "cell_type": "code",
   "execution_count": 6,
   "id": "f65fd35c",
   "metadata": {},
   "outputs": [],
   "source": [
    "column1 = pd.DataFrame(column1,columns = ['Date'])\n",
    "column2 = pd.DataFrame(column2,columns = ['Rates'])\n",
    "Data_BI = pd.concat([column1,column2],axis=1)"
   ]
  },
  {
   "cell_type": "markdown",
   "id": "930289ec",
   "metadata": {},
   "source": [
    "**Show The Concatenated Data**"
   ]
  },
  {
   "cell_type": "code",
   "execution_count": 7,
   "id": "3fc465d8",
   "metadata": {},
   "outputs": [
    {
     "data": {
      "text/html": [
       "<div>\n",
       "<style scoped>\n",
       "    .dataframe tbody tr th:only-of-type {\n",
       "        vertical-align: middle;\n",
       "    }\n",
       "\n",
       "    .dataframe tbody tr th {\n",
       "        vertical-align: top;\n",
       "    }\n",
       "\n",
       "    .dataframe thead th {\n",
       "        text-align: right;\n",
       "    }\n",
       "</style>\n",
       "<table border=\"1\" class=\"dataframe\">\n",
       "  <thead>\n",
       "    <tr style=\"text-align: right;\">\n",
       "      <th></th>\n",
       "      <th>Date</th>\n",
       "      <th>Rates</th>\n",
       "    </tr>\n",
       "  </thead>\n",
       "  <tbody>\n",
       "    <tr>\n",
       "      <th>0</th>\n",
       "      <td>18 Agustus 2021</td>\n",
       "      <td>Rp14.384,00</td>\n",
       "    </tr>\n",
       "    <tr>\n",
       "      <th>1</th>\n",
       "      <td>16 Agustus 2021</td>\n",
       "      <td>Rp14.383,00</td>\n",
       "    </tr>\n",
       "    <tr>\n",
       "      <th>2</th>\n",
       "      <td>13 Agustus 2021</td>\n",
       "      <td>Rp14.388,00</td>\n",
       "    </tr>\n",
       "    <tr>\n",
       "      <th>3</th>\n",
       "      <td>12 Agustus 2021</td>\n",
       "      <td>Rp14.389,00</td>\n",
       "    </tr>\n",
       "    <tr>\n",
       "      <th>4</th>\n",
       "      <td>10 Agustus 2021</td>\n",
       "      <td>Rp14.397,00</td>\n",
       "    </tr>\n",
       "    <tr>\n",
       "      <th>...</th>\n",
       "      <td>...</td>\n",
       "      <td>...</td>\n",
       "    </tr>\n",
       "    <tr>\n",
       "      <th>147</th>\n",
       "      <td>8 Januari 2021</td>\n",
       "      <td>Rp14.058,00</td>\n",
       "    </tr>\n",
       "    <tr>\n",
       "      <th>148</th>\n",
       "      <td>7 Januari 2021</td>\n",
       "      <td>Rp13.938,00</td>\n",
       "    </tr>\n",
       "    <tr>\n",
       "      <th>149</th>\n",
       "      <td>6 Januari 2021</td>\n",
       "      <td>Rp13.926,00</td>\n",
       "    </tr>\n",
       "    <tr>\n",
       "      <th>150</th>\n",
       "      <td>5 Januari 2021</td>\n",
       "      <td>Rp13.945,00</td>\n",
       "    </tr>\n",
       "    <tr>\n",
       "      <th>151</th>\n",
       "      <td>4 Januari 2021</td>\n",
       "      <td>Rp13.903,00</td>\n",
       "    </tr>\n",
       "  </tbody>\n",
       "</table>\n",
       "<p>152 rows × 2 columns</p>\n",
       "</div>"
      ],
      "text/plain": [
       "                Date        Rates\n",
       "0    18 Agustus 2021  Rp14.384,00\n",
       "1    16 Agustus 2021  Rp14.383,00\n",
       "2    13 Agustus 2021  Rp14.388,00\n",
       "3    12 Agustus 2021  Rp14.389,00\n",
       "4    10 Agustus 2021  Rp14.397,00\n",
       "..               ...          ...\n",
       "147   8 Januari 2021  Rp14.058,00\n",
       "148   7 Januari 2021  Rp13.938,00\n",
       "149   6 Januari 2021  Rp13.926,00\n",
       "150   5 Januari 2021  Rp13.945,00\n",
       "151   4 Januari 2021  Rp13.903,00\n",
       "\n",
       "[152 rows x 2 columns]"
      ]
     },
     "execution_count": 7,
     "metadata": {},
     "output_type": "execute_result"
    }
   ],
   "source": [
    "Data_BI"
   ]
  },
  {
   "cell_type": "markdown",
   "id": "e583974b",
   "metadata": {},
   "source": [
    "**Export The Data in CSV File Format**"
   ]
  },
  {
   "cell_type": "code",
   "execution_count": 8,
   "id": "4e3a3ab2",
   "metadata": {},
   "outputs": [],
   "source": [
    "Data_BI.to_csv('Homework Web Scraping.csv',index=False)"
   ]
  }
 ],
 "metadata": {
  "kernelspec": {
   "display_name": "Python 3",
   "language": "python",
   "name": "python3"
  },
  "language_info": {
   "codemirror_mode": {
    "name": "ipython",
    "version": 3
   },
   "file_extension": ".py",
   "mimetype": "text/x-python",
   "name": "python",
   "nbconvert_exporter": "python",
   "pygments_lexer": "ipython3",
   "version": "3.8.8"
  }
 },
 "nbformat": 4,
 "nbformat_minor": 5
}
